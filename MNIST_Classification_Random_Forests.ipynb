{
  "nbformat": 4,
  "nbformat_minor": 0,
  "metadata": {
    "anaconda-cloud": {},
    "kernelspec": {
      "display_name": "Python 3",
      "language": "python",
      "name": "python3"
    },
    "language_info": {
      "codemirror_mode": {
        "name": "ipython",
        "version": 3
      },
      "file_extension": ".py",
      "mimetype": "text/x-python",
      "name": "python",
      "nbconvert_exporter": "python",
      "pygments_lexer": "ipython3",
      "version": "3.5.1"
    },
    "colab": {
      "name": "05.08-Random-Forests.ipynb",
      "provenance": []
    }
  },
  "cells": [
    {
      "cell_type": "markdown",
      "metadata": {
        "id": "cd79kyLICeA6",
        "colab_type": "text"
      },
      "source": [
        "# In-Depth: Decision Trees and Random Forests"
      ]
    },
    {
      "cell_type": "markdown",
      "metadata": {
        "id": "QY22rG5-CeA9",
        "colab_type": "text"
      },
      "source": [
        "Previously we have looked in depth at a simple generative classifier (naive Bayes; see [In Depth: Naive Bayes Classification](05.05-Naive-Bayes.ipynb)) and a powerful discriminative classifier (support vector machines; see [In-Depth: Support Vector Machines](05.07-Support-Vector-Machines.ipynb)).\n",
        "Here we'll take a look at motivating another powerful algorithm—a non-parametric algorithm called *random forests*.\n",
        "Random forests are an example of an *ensemble* method, meaning that it relies on aggregating the results of an ensemble of simpler estimators.\n",
        "The somewhat surprising result with such ensemble methods is that the sum can be greater than the parts: that is, a majority vote among a number of estimators can end up being better than any of the individual estimators doing the voting!\n",
        "We will see examples of this in the following sections.\n",
        "We begin with the standard imports:"
      ]
    },
    {
      "cell_type": "code",
      "metadata": {
        "id": "L6y7ih9ECeBC",
        "colab_type": "code",
        "colab": {}
      },
      "source": [
        "%matplotlib inline\n",
        "import numpy as np\n",
        "import matplotlib.pyplot as plt\n",
        "import seaborn as sns; sns.set()\n",
        "from sklearn.ensemble import RandomForestClassifier"
      ],
      "execution_count": 0,
      "outputs": []
    },
    {
      "cell_type": "markdown",
      "metadata": {
        "id": "wopWuA8UCeBH",
        "colab_type": "text"
      },
      "source": [
        "## Motivating Random Forests: Decision Trees"
      ]
    },
    {
      "cell_type": "markdown",
      "metadata": {
        "id": "h5-U2USFCeBI",
        "colab_type": "text"
      },
      "source": [
        "Random forests are an example of an *ensemble learner* built on decision trees.\n",
        "For this reason we'll start by discussing decision trees themselves.\n",
        "\n",
        "Decision trees are extremely intuitive ways to classify or label objects: you simply ask a series of questions designed to zero-in on the classification.\n",
        "For example, if you wanted to build a decision tree to classify an animal you come across while on a hike, you might construct the one shown here:"
      ]
    },
    {
      "cell_type": "markdown",
      "metadata": {
        "collapsed": false,
        "id": "PDtsJlgqCeBJ",
        "colab_type": "text"
      },
      "source": [
        "![](https://github.com/jakevdp/PythonDataScienceHandbook/blob/master/notebooks/figures/05.08-decision-tree.png?raw=1)\n",
        "[figure source in Appendix](06.00-Figure-Code.ipynb#Decision-Tree-Example)"
      ]
    },
    {
      "cell_type": "markdown",
      "metadata": {
        "id": "pH1e6PulCeBL",
        "colab_type": "text"
      },
      "source": [
        "The binary splitting makes this extremely efficient: in a well-constructed tree, each question will cut the number of options by approximately half, very quickly narrowing the options even among a large number of classes.\n",
        "The trick, of course, comes in deciding which questions to ask at each step.\n",
        "In machine learning implementations of decision trees, the questions generally take the form of axis-aligned splits in the data: that is, each node in the tree splits the data into two groups using a cutoff value within one of the features.\n",
        "Let's now look at an example of this."
      ]
    },
    {
      "cell_type": "markdown",
      "metadata": {
        "id": "Q3ACPrIeCeCS",
        "colab_type": "text"
      },
      "source": [
        "## Example: Random Forest for Classifying Digits\n",
        "\n",
        "Earlier we took a quick look at the hand-written digits data (see [Introducing Scikit-Learn](05.02-Introducing-Scikit-Learn.ipynb)).\n",
        "Let's use that again here to see how the random forest classifier can be used in this context."
      ]
    },
    {
      "cell_type": "code",
      "metadata": {
        "id": "06SPKx5vCeCT",
        "colab_type": "code",
        "colab": {
          "base_uri": "https://localhost:8080/",
          "height": 34
        },
        "outputId": "95de95b9-f3b8-4699-aaab-3a00c263b890"
      },
      "source": [
        "from sklearn.datasets import load_digits\n",
        "digits = load_digits()\n",
        "digits.keys()"
      ],
      "execution_count": 28,
      "outputs": [
        {
          "output_type": "execute_result",
          "data": {
            "text/plain": [
              "dict_keys(['data', 'target', 'target_names', 'images', 'DESCR'])"
            ]
          },
          "metadata": {
            "tags": []
          },
          "execution_count": 28
        }
      ]
    },
    {
      "cell_type": "markdown",
      "metadata": {
        "id": "qd1MBrtPCeCY",
        "colab_type": "text"
      },
      "source": [
        "To remind us what we're looking at, we'll visualize the first few data points:"
      ]
    },
    {
      "cell_type": "code",
      "metadata": {
        "id": "ASsHfqI_CeCb",
        "colab_type": "code",
        "colab": {
          "base_uri": "https://localhost:8080/",
          "height": 463
        },
        "outputId": "1609cb2d-d85a-4a3b-ddd5-cd3fa000fd58"
      },
      "source": [
        "# set up the figure\n",
        "fig = plt.figure(figsize=(6, 6))  # figure size in inches\n",
        "fig.subplots_adjust(left=0, right=1, bottom=0, top=1, hspace=0.05, wspace=0.05)\n",
        "\n",
        "# plot the digits: each image is 8x8 pixels\n",
        "for i in range(64):\n",
        "    ax = fig.add_subplot(8, 8, i + 1, xticks=[], yticks=[])\n",
        "    ax.imshow(digits.images[i], cmap=plt.cm.binary, interpolation='nearest')\n",
        "    \n",
        "    # label the image with the target value\n",
        "    ax.text(0, 7, str(digits.target[i]))"
      ],
      "execution_count": 29,
      "outputs": [
        {
          "output_type": "display_data",
          "data": {
            "image/png": "[encoded data removed]",
            "text/plain": [
              "<Figure size 432x432 with 64 Axes>"
            ]
          },
          "metadata": {
            "tags": []
          }
        }
      ]
    },
    {
      "cell_type": "markdown",
      "metadata": {
        "id": "SCwUVjHWCeCf",
        "colab_type": "text"
      },
      "source": [
        "We can quickly classify the digits using a random forest as follows:"
      ]
    },
    {
      "cell_type": "code",
      "metadata": {
        "id": "xUrGq4b0CeCh",
        "colab_type": "code",
        "colab": {}
      },
      "source": [
        "from sklearn.model_selection import train_test_split\n",
        "\n",
        "Xtrain, Xtest, ytrain, ytest = train_test_split(digits.data, digits.target,\n",
        "                                                random_state=0)\n",
        "model = RandomForestClassifier(n_estimators=1000)\n",
        "model.fit(Xtrain, ytrain)\n",
        "ypred = model.predict(Xtest)"
      ],
      "execution_count": 0,
      "outputs": []
    },
    {
      "cell_type": "markdown",
      "metadata": {
        "id": "qmHuWlsECeCl",
        "colab_type": "text"
      },
      "source": [
        "We can take a look at the classification report for this classifier:"
      ]
    },
    {
      "cell_type": "code",
      "metadata": {
        "id": "1gVq7sX_CeCq",
        "colab_type": "code",
        "colab": {
          "base_uri": "https://localhost:8080/",
          "height": 302
        },
        "outputId": "0fe5ae73-c6e6-4375-c4ef-5c61ae443807"
      },
      "source": [
        "from sklearn import metrics\n",
        "print(metrics.classification_report(ypred, ytest))"
      ],
      "execution_count": 32,
      "outputs": [
        {
          "output_type": "stream",
          "text": [
            "              precision    recall  f1-score   support\n",
            "\n",
            "           0       1.00      0.97      0.99        38\n",
            "           1       0.98      0.98      0.98        43\n",
            "           2       0.95      1.00      0.98        42\n",
            "           3       0.98      0.96      0.97        46\n",
            "           4       0.97      1.00      0.99        37\n",
            "           5       0.98      0.96      0.97        49\n",
            "           6       1.00      1.00      1.00        52\n",
            "           7       1.00      0.96      0.98        50\n",
            "           8       0.94      0.98      0.96        46\n",
            "           9       0.98      0.98      0.98        47\n",
            "\n",
            "    accuracy                           0.98       450\n",
            "   macro avg       0.98      0.98      0.98       450\n",
            "weighted avg       0.98      0.98      0.98       450\n",
            "\n"
          ],
          "name": "stdout"
        }
      ]
    },
    {
      "cell_type": "markdown",
      "metadata": {
        "id": "axJLmog6CeCt",
        "colab_type": "text"
      },
      "source": [
        "And for good measure, plot the confusion matrix:"
      ]
    },
    {
      "cell_type": "code",
      "metadata": {
        "id": "MV3VlxCKCeCu",
        "colab_type": "code",
        "colab": {
          "base_uri": "https://localhost:8080/",
          "height": 291
        },
        "outputId": "d71a22f2-bb4f-4347-e145-98f151359de1"
      },
      "source": [
        "from sklearn.metrics import confusion_matrix\n",
        "mat = confusion_matrix(ytest, ypred)\n",
        "sns.heatmap(mat.T, square=True, annot=True, fmt='d', cbar=False)\n",
        "plt.xlabel('true label')\n",
        "plt.ylabel('predicted label');"
      ],
      "execution_count": 33,
      "outputs": [
        {
          "output_type": "display_data",
          "data": {
            "image/png": "[encoded data removed]",
            "text/plain": [
              "<Figure size 432x288 with 1 Axes>"
            ]
          },
          "metadata": {
            "tags": []
          }
        }
      ]
    },
    {
      "cell_type": "markdown",
      "metadata": {
        "id": "A7CSgMunCeCz",
        "colab_type": "text"
      },
      "source": [
        "We find that a simple, untuned random forest results in a very accurate classification of the digits data."
      ]
    },
    {
      "cell_type": "markdown",
      "metadata": {
        "id": "woO2elQ4CeC0",
        "colab_type": "text"
      },
      "source": [
        "## Summary of Random Forests\n",
        "\n",
        "This section contained a brief introduction to the concept of *ensemble estimators*, and in particular the random forest – an ensemble of randomized decision trees.\n",
        "Random forests are a powerful method with several advantages:\n",
        "\n",
        "- Both training and prediction are very fast, because of the simplicity of the underlying decision trees. In addition, both tasks can be straightforwardly parallelized, because the individual trees are entirely independent entities.\n",
        "- The multiple trees allow for a probabilistic classification: a majority vote among estimators gives an estimate of the probability (accessed in Scikit-Learn with the ``predict_proba()`` method).\n",
        "- The nonparametric model is extremely flexible, and can thus perform well on tasks that are under-fit by other estimators.\n",
        "\n",
        "A primary disadvantage of random forests is that the results are not easily interpretable: that is, if you would like to draw conclusions about the *meaning* of the classification model, random forests may not be the best choice."
      ]
    }
  ]
}