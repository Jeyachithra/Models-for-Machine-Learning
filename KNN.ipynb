{
  "nbformat": 4,
  "nbformat_minor": 0,
  "metadata": {
    "colab": {
      "name": "KNN.ipynb",
      "provenance": [],
      "collapsed_sections": []
    },
    "kernelspec": {
      "display_name": "Python 3",
      "language": "python",
      "name": "python3"
    }
  },
  "cells": [
    {
      "cell_type": "code",
      "metadata": {
        "id": "2ispszMOxF72",
        "colab_type": "code",
        "outputId": "25a66306-a7df-47a5-df34-e924f8037afc",
        "colab": {
          "base_uri": "https://localhost:8080/",
          "height": 105
        }
      },
      "source": [
        "!pip install fuzzywuzzy"
      ],
      "execution_count": 1,
      "outputs": [
        {
          "output_type": "stream",
          "text": [
            "Collecting fuzzywuzzy\n",
            "  Downloading https://files.pythonhosted.org/packages/d8/f1/5a267addb30ab7eaa1beab2b9323073815da4551076554ecc890a3595ec9/fuzzywuzzy-0.17.0-py2.py3-none-any.whl\n",
            "Installing collected packages: fuzzywuzzy\n",
            "Successfully installed fuzzywuzzy-0.17.0\n"
          ],
          "name": "stdout"
        }
      ]
    },
    {
      "cell_type": "code",
      "metadata": {
        "colab_type": "code",
        "id": "jn6TDjPOZa3l",
        "outputId": "248752d8-8d4c-4aee-af22-110ab18d084f",
        "colab": {
          "base_uri": "https://localhost:8080/",
          "height": 71
        }
      },
      "source": [
        "# BLOCK 1 : Import Modules \n",
        "\n",
        "import os\n",
        "import time\n",
        "\n",
        "t1=time.time()\n",
        "\n",
        "# Data Science Imports\n",
        "import math\n",
        "import numpy as np\n",
        "import pandas as pd\n",
        "from IPython.display import Markdown\n",
        "from scipy.sparse import csr_matrix\n",
        "from sklearn.neighbors import NearestNeighbors\n",
        "\n",
        "# Utility Imports\n",
        "from fuzzywuzzy import fuzz\n",
        "\n",
        "# Visualization Imports\n",
        "import seaborn as sns\n",
        "import matplotlib.pyplot as plt\n",
        "plt.style.use('ggplot')\n",
        "%matplotlib inline\n"
      ],
      "execution_count": 2,
      "outputs": [
        {
          "output_type": "stream",
          "text": [
            "/usr/local/lib/python3.6/dist-packages/fuzzywuzzy/fuzz.py:11: UserWarning: Using slow pure-python SequenceMatcher. Install python-Levenshtein to remove this warning\n",
            "  warnings.warn('Using slow pure-python SequenceMatcher. Install python-Levenshtein to remove this warning')\n"
          ],
          "name": "stderr"
        }
      ]
    },
    {
      "cell_type": "code",
      "metadata": {
        "id": "etcVb_F5wyt5",
        "colab_type": "code",
        "colab": {}
      },
      "source": [
        "LARGE_DATASET = False"
      ],
      "execution_count": 0,
      "outputs": []
    },
    {
      "cell_type": "code",
      "metadata": {
        "id": "gw9uf212xnBF",
        "colab_type": "code",
        "outputId": "074464d7-0056-4018-95c0-a858f1db0405",
        "colab": {
          "base_uri": "https://localhost:8080/",
          "height": 85
        }
      },
      "source": [
        "!git clone https://github.com/subha12k/data.git\n",
        "data_path = os.path.join('/content', 'data')"
      ],
      "execution_count": 4,
      "outputs": [
        {
          "output_type": "stream",
          "text": [
            "Cloning into 'data'...\n",
            "remote: Enumerating objects: 7, done.\u001b[K\n",
            "remote: Total 7 (delta 0), reused 0 (delta 0), pack-reused 7\u001b[K\n",
            "Unpacking objects: 100% (7/7), done.\n"
          ],
          "name": "stdout"
        }
      ]
    },
    {
      "cell_type": "code",
      "metadata": {
        "id": "j9p4UmKHwyt8",
        "colab_type": "code",
        "colab": {}
      },
      "source": [
        "\n",
        "if LARGE_DATASET is False:\n",
        "    \n",
        "    movies_filename = os.path.join(data_path, 'movies.csv')\n",
        "    ratings_filename = os.path.join(data_path, 'ratings.csv')\n",
        "    \n",
        "    df_movies = pd.read_csv(movies_filename,\n",
        "                        usecols=['movieId', 'title'],\n",
        "                        dtype={'movieId': 'int32', 'title': 'str'})\n",
        "\n",
        "    df_ratings = pd.read_csv(ratings_filename,\n",
        "                         usecols=['userId', 'movieId', 'rating'],\n",
        "                         dtype={'userId': 'int32', 'movieId': 'int32', 'rating': 'float32'})\n",
        "    \n",
        "else:   \n",
        "    movies_filename = './ml-10M100K/movies.dat'\n",
        "    ratings_filename = './ml-10M100K/ratings.dat'\n",
        "\n",
        "    movies = pd.read_csv(movies_filename,header=None,  sep = '::')\n",
        "    movies.columns = [\"movieId\", \"title\", \"genre\"]\n",
        "\n",
        "    ratings = pd.read_csv(ratings_filename,header=None,  sep = '::')\n",
        "    ratings.columns = [\"userId\", \"movieId\", \"rating\",\"dummy\"]\n",
        "\n",
        "\n",
        "    df_movies = movies[[\"movieId\",\"title\"]]\n",
        "    df_ratings = ratings[[\"userId\", \"movieId\", \"rating\"]]\n"
      ],
      "execution_count": 0,
      "outputs": []
    },
    {
      "cell_type": "code",
      "metadata": {
        "colab_type": "code",
        "id": "2tA6I_zcZa3q",
        "outputId": "823fbe3a-3aa3-492c-8831-174400c83b1e",
        "colab": {
          "base_uri": "https://localhost:8080/",
          "height": 289
        }
      },
      "source": [
        "# BLOCK 2 : Read In Data, Sample A Few Movies \n",
        "\n",
        "num_users = len(df_ratings.userId.unique())\n",
        "num_items = len(df_ratings.movieId.unique())\n",
        "num_ratings = len(df_ratings.rating)\n",
        "print('There are {} ratings from {} unique users and {} unique movies in this data set \\n'.format(num_ratings,num_users, num_items))\n",
        "\n",
        "print(df_movies.head().to_string())\n",
        "print(\"\\n\")\n",
        "print(df_ratings.head().to_string())\n"
      ],
      "execution_count": 6,
      "outputs": [
        {
          "output_type": "stream",
          "text": [
            "There are 100836 ratings from 610 unique users and 9724 unique movies in this data set \n",
            "\n",
            "   movieId                               title\n",
            "0        1                    Toy Story (1995)\n",
            "1        2                      Jumanji (1995)\n",
            "2        3             Grumpier Old Men (1995)\n",
            "3        4            Waiting to Exhale (1995)\n",
            "4        5  Father of the Bride Part II (1995)\n",
            "\n",
            "\n",
            "   userId  movieId  rating\n",
            "0       1        1     4.0\n",
            "1       1        3     4.0\n",
            "2       1        6     4.0\n",
            "3       1       47     5.0\n",
            "4       1       50     5.0\n"
          ],
          "name": "stdout"
        }
      ]
    },
    {
      "cell_type": "code",
      "metadata": {
        "colab_type": "code",
        "id": "qWxTyhq1Za4J",
        "outputId": "e6a38775-e8e9-449a-f073-0ef8f3568a5d",
        "colab": {
          "base_uri": "https://localhost:8080/",
          "height": 543
        }
      },
      "source": [
        "# BLOCK 3 : Visualise Frequency And Distribution Of Each Rating\n",
        "\n",
        "df_ratings_cnt_tmp = pd.DataFrame(df_ratings.groupby('rating').size(), columns=['count'])\n",
        "\n",
        "# There are a lot more counts in rating of zero\n",
        "total_cnt = num_users * num_items\n",
        "rating_zero_cnt = total_cnt - df_ratings.shape[0]\n",
        "\n",
        "# Append counts of zero rating to df_ratings_cnt\n",
        "df_ratings_cnt = df_ratings_cnt_tmp.append(\n",
        "    pd.DataFrame({'count': rating_zero_cnt}, index=[0.0]),\n",
        "    verify_integrity=True,\n",
        ").sort_index()\n",
        "\n",
        "df_ratings_cnt['log_count'] = np.log(df_ratings_cnt['count'])\n",
        "\n",
        "ax = df_ratings_cnt[['count']].reset_index().rename(columns={'index': 'rating score'}).plot(\n",
        "    x='rating score',\n",
        "    y='count',\n",
        "    kind='bar',\n",
        "    figsize=(8, 8),\n",
        "    title='Count for Each Rating Score (in Log Scale)',\n",
        "    logy=True,\n",
        "    fontsize=12,\n",
        ")\n",
        "ax.set_xlabel(\"movie rating score\")\n",
        "ax.set_ylabel(\"number of ratings\")"
      ],
      "execution_count": 7,
      "outputs": [
        {
          "output_type": "execute_result",
          "data": {
            "text/plain": [
              "Text(0, 0.5, 'number of ratings')"
            ]
          },
          "metadata": {
            "tags": []
          },
          "execution_count": 7
        },
        {
          "output_type": "display_data",
          "data": {
            "image/png": "[encoded data removed]",
            "text/plain": [
              "<Figure size 576x576 with 1 Axes>"
            ]
          },
          "metadata": {
            "tags": []
          }
        }
      ]
    },
    {
      "cell_type": "markdown",
      "metadata": {
        "colab_type": "text",
        "id": "NbkexuZfZa4W"
      },
      "source": [
        "Note that empty entries in the ratings matrix are assumed zero. The distribution of ratings among movies is long-tailed. That is, only a small fraction of the items are rated frequently.  This results in a highly skewed distribution of the ratings."
      ]
    },
    {
      "cell_type": "code",
      "metadata": {
        "id": "QGJbIhSUwyuG",
        "colab_type": "code",
        "colab": {}
      },
      "source": [
        "# BLOCK 4 : Write The Rating Matrix Builder\n",
        "\n",
        "def get_rating_matrix(X):\n",
        "    \"\"\"Function to generate a ratings matrx and mappings for\n",
        "    the user and item ids to the row and column indices\n",
        "\n",
        "    Parameters\n",
        "    ----------\n",
        "    X : pandas.DataFrame, shape=(n_ratings,>=3)\n",
        "        First 3 columns must be in order of user, item, rating.\n",
        "\n",
        "    Returns\n",
        "    -------\n",
        "    rating_matrix : 2d numpy array, shape=(n_users, n_items)\n",
        "    user_map : pandas Series, shape=(n_users,)\n",
        "        Mapping from the original user id to an integer in the range [0,n_users)\n",
        "    item_map : pandas Series, shape=(n_items,)\n",
        "        Mapping from the original item id to an integer in the range [0,n_items)\n",
        "    \"\"\"\n",
        "    user_col, item_col, rating_col = X.columns[:3]\n",
        "    rating = X[rating_col]\n",
        "    user_map = pd.Series(\n",
        "        index=np.unique(X[user_col]),\n",
        "        data=np.arange(X[user_col].nunique()),\n",
        "        name='user_map',\n",
        "    )\n",
        "    item_map = pd.Series(\n",
        "        index=np.unique(X[item_col]),\n",
        "        data=np.arange(X[item_col].nunique()),\n",
        "        name='columns_map',\n",
        "    )\n",
        "    user_inds = X[user_col].map(user_map)\n",
        "    item_inds = X[item_col].map(item_map)\n",
        "    rating_matrix = (\n",
        "        pd.pivot_table(\n",
        "            data=X,\n",
        "            values=rating_col,\n",
        "            index=user_inds,\n",
        "            columns=item_inds,\n",
        "        )\n",
        "        .fillna(0)\n",
        "        .values\n",
        "    )\n",
        "    return rating_matrix, user_map, item_map"
      ],
      "execution_count": 0,
      "outputs": []
    },
    {
      "cell_type": "code",
      "metadata": {
        "id": "nRx1lKqAwyuJ",
        "colab_type": "code",
        "outputId": "6373fa6b-ea9b-4415-83c1-a88d1f886cb1",
        "colab": {
          "base_uri": "https://localhost:8080/",
          "height": 95
        }
      },
      "source": [
        "# BLOCK 5 : Visualise Sparsity Of Matrix\n",
        "\n",
        "plt.rcParams[\"figure.figsize\"] = (20,3)\n",
        "\n",
        "rating_matrix, user_map, item_map = get_rating_matrix(df_ratings)\n",
        "with plt.style.context('seaborn-white'):\n",
        "    rating_matrix_binary = rating_matrix > 0\n",
        "    plt.figure(figsize=(10,100))\n",
        "    plt.imshow(rating_matrix_binary)\n",
        "    plt.xlabel('Movie')\n",
        "    plt.ylabel('User')\n",
        "    plt.yscale('linear')\n",
        "    plt.ylim(0,600)\n",
        "    plt.show()\n"
      ],
      "execution_count": 9,
      "outputs": [
        {
          "output_type": "display_data",
          "data": {
            "image/png": "[encoded data removed]",
            "text/plain": [
              "<Figure size 720x7200 with 1 Axes>"
            ]
          },
          "metadata": {
            "tags": []
          }
        }
      ]
    },
    {
      "cell_type": "code",
      "metadata": {
        "colab_type": "code",
        "id": "6cRCH2ghZa4d",
        "outputId": "ae0eb7a4-5289-4cb4-a248-453f618e831e",
        "colab": {
          "base_uri": "https://localhost:8080/",
          "height": 149
        }
      },
      "source": [
        "# BLOCK 6 : Data Reduction - Drop Movies With Less No: Of Ratings\n",
        "\n",
        "df_movies_cnt = pd.DataFrame(df_ratings.groupby('movieId').size(), columns=['count'])\n",
        "popularity_thres = 50\n",
        "popular_movies = list(set(df_movies_cnt.query('count >= @popularity_thres').index))\n",
        "df_ratings_drop_movies = df_ratings[df_ratings.movieId.isin(popular_movies)]\n",
        "print('shape of original ratings data: ', df_ratings.shape)\n",
        "print('shape of ratings data after dropping unpopular movies: ', df_ratings_drop_movies.shape)\n",
        "\n",
        "rating_matrix, user_map, item_map = get_rating_matrix(df_ratings_drop_movies)\n",
        "with plt.style.context('seaborn-white'):\n",
        "    rating_matrix_binary = rating_matrix > 0\n",
        "    plt.figure(figsize=(1,1))\n",
        "    plt.imshow(rating_matrix_binary)\n",
        "    plt.xlabel('Movie')\n",
        "    plt.ylabel('User')\n",
        "    plt.yscale('linear')\n",
        "    plt.ylim(0,600)\n",
        "    plt.show()\n"
      ],
      "execution_count": 10,
      "outputs": [
        {
          "output_type": "stream",
          "text": [
            "shape of original ratings data:  (100836, 3)\n",
            "shape of ratings data after dropping unpopular movies:  (41360, 3)\n"
          ],
          "name": "stdout"
        },
        {
          "output_type": "display_data",
          "data": {
            "image/png": "[encoded data removed]",
            "text/plain": [
              "<Figure size 72x72 with 1 Axes>"
            ]
          },
          "metadata": {
            "tags": []
          }
        }
      ]
    },
    {
      "cell_type": "code",
      "metadata": {
        "colab_type": "code",
        "id": "-WX9mwc6Za4s",
        "outputId": "fd079f23-3828-45f5-fbb4-d81022566bbd",
        "colab": {
          "base_uri": "https://localhost:8080/",
          "height": 204
        }
      },
      "source": [
        "# BLOCK 7: Reshape Data\n",
        "\n",
        "# Pivot And Create Movie-User Matrix\n",
        "df_users_cnt = pd.DataFrame(df_ratings_drop_movies.groupby('userId').size(), columns=['count'])\n",
        "\n",
        "ratings_thres = 50\n",
        "active_users = list(set(df_users_cnt.query('count >= @ratings_thres').index))\n",
        "df_ratings_drop_users = df_ratings_drop_movies[df_ratings_drop_movies.userId.isin(active_users)]\n",
        "print('shape of original ratings data: ', df_ratings.shape)\n",
        "print('shape of ratings data after dropping both unpopular movies and inactive users: ', df_ratings_drop_users.shape)\n",
        "\n",
        "movie_user_mat = df_ratings_drop_users.pivot(index='movieId', columns='userId', values='rating').fillna(0)\n",
        "\n",
        "print(\"movie_user matrix is {}\".format(movie_user_mat.head(5)))\n",
        "# Create Mapper From Movie Title To Index\n",
        "movie_to_idx = {\n",
        "    movie: i for i, movie in \n",
        "    enumerate(list(df_movies.set_index('movieId').loc[movie_user_mat.index].title))\n",
        "}\n",
        "\n",
        "# Transform Matrix To Scipy Sparse Matrix\n",
        "movie_user_mat_sparse = csr_matrix(movie_user_mat.values)"
      ],
      "execution_count": 11,
      "outputs": [
        {
          "output_type": "stream",
          "text": [
            "shape of original ratings data:  (100836, 3)\n",
            "shape of ratings data after dropping both unpopular movies and inactive users:  (32999, 3)\n",
            "movie_user matrix is userId   1    4    6    7    15   16   17   ...  603  604  605  606  607  608  610\n",
            "movieId                                     ...                                   \n",
            "1        4.0  0.0  0.0  4.5  2.5  0.0  4.5  ...  4.0  3.0  4.0  2.5  4.0  2.5  5.0\n",
            "2        0.0  0.0  4.0  0.0  0.0  0.0  0.0  ...  0.0  5.0  3.5  0.0  0.0  2.0  0.0\n",
            "3        4.0  0.0  5.0  0.0  0.0  0.0  0.0  ...  0.0  0.0  0.0  0.0  0.0  2.0  0.0\n",
            "6        4.0  0.0  4.0  0.0  0.0  0.0  0.0  ...  4.0  3.0  0.0  0.0  0.0  0.0  5.0\n",
            "7        0.0  0.0  4.0  0.0  0.0  0.0  0.0  ...  0.0  0.0  0.0  2.5  0.0  0.0  0.0\n",
            "\n",
            "[5 rows x 268 columns]\n"
          ],
          "name": "stdout"
        }
      ]
    },
    {
      "cell_type": "code",
      "metadata": {
        "colab_type": "code",
        "id": "YsnEVvlEZa4v",
        "outputId": "944bd203-9cbc-43c6-c22d-da9a5f18d8c6",
        "colab": {
          "base_uri": "https://localhost:8080/",
          "height": 85
        }
      },
      "source": [
        "# BLOCK 8: Train Model\n",
        "\n",
        "%env JOBLIB_TEMP_FOLDER=/tmp\n",
        "\n",
        "# Define Model - The function called is imported from scikit-learn\n",
        "model_knn = NearestNeighbors(metric='cosine', algorithm='brute', n_neighbors=20, n_jobs=-1)\n",
        "# model_knn = NearestNeighbors(metric='euclidean', algorithm='brute', n_neighbors=20, n_jobs=-1)\n",
        "# Fit Model To Data\n",
        "model_knn.fit(movie_user_mat_sparse)"
      ],
      "execution_count": 12,
      "outputs": [
        {
          "output_type": "stream",
          "text": [
            "env: JOBLIB_TEMP_FOLDER=/tmp\n"
          ],
          "name": "stdout"
        },
        {
          "output_type": "execute_result",
          "data": {
            "text/plain": [
              "NearestNeighbors(algorithm='brute', leaf_size=30, metric='cosine',\n",
              "                 metric_params=None, n_jobs=-1, n_neighbors=20, p=2,\n",
              "                 radius=1.0)"
            ]
          },
          "metadata": {
            "tags": []
          },
          "execution_count": 12
        }
      ]
    },
    {
      "cell_type": "code",
      "metadata": {
        "colab_type": "code",
        "id": "eYRKKk9FZa4y",
        "colab": {}
      },
      "source": [
        "# BLOCK 9 : Define Fuzzy Matching And Make_Recommendation Functions For Movies\n",
        "\n",
        "def fuzzy_matching(mapper, fav_movie, verbose=True):\n",
        "    \"\"\"\n",
        "    return the closest match via fuzzy ratio. \n",
        "    \n",
        "    Parameters\n",
        "    ----------    \n",
        "       mapper:  dict, map movie title name to index of the movie in data\n",
        "    fav_movie:  str, movie name\n",
        "      verbose:  bool, print log if True\n",
        "\n",
        "       Return:  index of the closest match\n",
        "    \"\"\"\n",
        "    match_tuple = []\n",
        "    # get match\n",
        "    for title, idx in mapper.items():\n",
        "        ratio = fuzz.ratio(title.lower(), fav_movie.lower())\n",
        "        if ratio >= 60:\n",
        "            match_tuple.append((title, idx, ratio))\n",
        "    # sort\n",
        "    match_tuple = sorted(match_tuple, key=lambda x: x[2])[::-1]\n",
        "    if not match_tuple:\n",
        "        print('Oops! No match is found')\n",
        "        return\n",
        "    if verbose:\n",
        "        print('Found possible matches in our database: {0}\\n'.format([x[0] for x in match_tuple]))\n",
        "    return match_tuple[0][1]\n",
        "\n",
        "def make_recommendation(model_knn, data, mapper, fav_movie, n_recommendations):\n",
        "    \"\"\"\n",
        "    return top n similar movie recommendations \n",
        "\n",
        "    Parameters\n",
        "    ----------\n",
        "            model_knn: knn model\n",
        "                 data: movie-user ratings matrix\n",
        "               mapper: dict, maps movie title name to index of the movie in the ratings matrix\n",
        "            fav_movie: str, movie name\n",
        "    n_recommendations: int, top n recommendations\n",
        "\n",
        "               Return: list of top n similar movie recommendations\n",
        "    \"\"\"\n",
        "    # fit\n",
        "    model_knn.fit(data)\n",
        "    # get input movie index\n",
        "    print('You have input movie:', fav_movie)\n",
        "    idx = fuzzy_matching(mapper, fav_movie, verbose=True)\n",
        "    # inference\n",
        "    distances, indices = model_knn.kneighbors(data[idx], n_neighbors=n_recommendations+1)\n",
        "    # get list of raw idx of recommendations\n",
        "    raw_recommends = \\\n",
        "        sorted(list(zip(indices.squeeze().tolist(), distances.squeeze().tolist())), key=lambda x: x[1])[:0:-1]\n",
        "    # get reverse mapper\n",
        "    reverse_mapper = {v: k for k, v in mapper.items()}\n",
        "    # print recommendations\n",
        "    print('Recommendations for {}:'.format(fav_movie))\n",
        "    for i, (idx, dist) in enumerate(raw_recommends):\n",
        "        print('{0}: {1}, with distance of {2}'.format(i+1, reverse_mapper[idx], dist))\n",
        "        "
      ],
      "execution_count": 0,
      "outputs": []
    },
    {
      "cell_type": "code",
      "metadata": {
        "colab_type": "code",
        "id": "UQG_d9BuZa4z",
        "outputId": "48caa6ac-2cb9-451f-d8d2-2484b8fd162d",
        "colab": {
          "base_uri": "https://localhost:8080/",
          "height": 289
        }
      },
      "source": [
        "# BLOCK 10 : Let's Make Some Recommendations!\n",
        "\n",
        "my_favorite = 'Iron Man'\n",
        "# 'Finding Nemo' 'Dark Knight' 'Avatar' 'Up' 'Inception' 'Beautiful Mind' 'Iron Man'\n",
        "\n",
        "make_recommendation(\n",
        "    model_knn=model_knn,\n",
        "    data=movie_user_mat_sparse,\n",
        "    fav_movie=my_favorite,\n",
        "    mapper=movie_to_idx,\n",
        "    n_recommendations=10)\n",
        "print(f'\\n Total time taken for the Recommender System to run is {time.time()-t1}')"
      ],
      "execution_count": 14,
      "outputs": [
        {
          "output_type": "stream",
          "text": [
            "You have input movie: Iron Man\n",
            "Found possible matches in our database: ['Iron Man (2008)']\n",
            "\n",
            "Recommendations for Iron Man:\n",
            "1: Batman Begins (2005), with distance of 0.3474416136741638\n",
            "2: Sherlock Holmes (2009), with distance of 0.34635400772094727\n",
            "3: Kung Fu Panda (2008), with distance of 0.3432350754737854\n",
            "4: Inception (2010), with distance of 0.3307400345802307\n",
            "5: District 9 (2009), with distance of 0.31877219676971436\n",
            "6: Up (2009), with distance of 0.31706738471984863\n",
            "7: WALL·E (2008), with distance of 0.27033132314682007\n",
            "8: Avengers, The (2012), with distance of 0.26102906465530396\n",
            "9: Avatar (2009), with distance of 0.25990235805511475\n",
            "10: Dark Knight, The (2008), with distance of 0.24018973112106323\n",
            "\n",
            " Total time taken for the Recommender System to run is 11.391114950180054\n"
          ],
          "name": "stdout"
        }
      ]
    },
    {
      "cell_type": "markdown",
      "metadata": {
        "colab_type": "text",
        "id": "IfRPGktDZa41"
      },
      "source": [
        "KNN model recommendations above"
      ]
    },
    {
      "cell_type": "code",
      "metadata": {
        "id": "9e7UtM0FnYdL",
        "colab_type": "code",
        "colab": {}
      },
      "source": [
        ""
      ],
      "execution_count": 0,
      "outputs": []
    }
  ]
}